{
 "cells": [
  {
   "cell_type": "code",
   "execution_count": 5,
   "id": "315e21ac-1374-452a-b088-edd1ae3cad55",
   "metadata": {},
   "outputs": [
    {
     "name": "stdin",
     "output_type": "stream",
     "text": [
      "Enter the radius 3\n"
     ]
    },
    {
     "name": "stdout",
     "output_type": "stream",
     "text": [
      "Area =  28.259999999999998\n"
     ]
    }
   ],
   "source": [
    "radius=float(input('Enter the radius'))\n",
    "area=3.14*radius*radius\n",
    "print('Area = ',area)"
   ]
  },
  {
   "cell_type": "code",
   "execution_count": 6,
   "id": "d6c556b6-f403-40b6-bf75-6eeee0c5a971",
   "metadata": {},
   "outputs": [
    {
     "name": "stdin",
     "output_type": "stream",
     "text": [
      "Enter the name Shalu\n",
      "Enter Roll Num 12\n",
      "Enter mark 34\n"
     ]
    },
    {
     "name": "stdout",
     "output_type": "stream",
     "text": [
      "Name : Shalu\n",
      "Roll No: 12\n",
      "Mark : 34\n"
     ]
    }
   ],
   "source": [
    "name=input('Enter the name')\n",
    "roll_no=input('Enter Roll Num')\n",
    "mark=input('Enter mark')\n",
    "print('Name :',name)\n",
    "print('Roll No:',roll_no)\n",
    "print('Mark :',mark)"
   ]
  },
  {
   "cell_type": "code",
   "execution_count": 7,
   "id": "84751afd-f64b-4949-b4f0-517e95a787e1",
   "metadata": {},
   "outputs": [
    {
     "name": "stdout",
     "output_type": "stream",
     "text": [
      "47  is the largest number\n"
     ]
    }
   ],
   "source": [
    "list1=[12,3,47,10]\n",
    "print(max(list1),' is the largest number')"
   ]
  },
  {
   "cell_type": "code",
   "execution_count": 8,
   "id": "462027c9-a4ad-41de-865a-0214ceec0e9f",
   "metadata": {},
   "outputs": [
    {
     "name": "stdout",
     "output_type": "stream",
     "text": [
      "Current Number: 1 Previous Number: 0 Sum: 1\n",
      "Current Number: 2 Previous Number: 1 Sum: 3\n",
      "Current Number: 3 Previous Number: 2 Sum: 5\n",
      "Current Number: 4 Previous Number: 3 Sum: 7\n",
      "Current Number: 5 Previous Number: 4 Sum: 9\n",
      "Current Number: 6 Previous Number: 5 Sum: 11\n",
      "Current Number: 7 Previous Number: 6 Sum: 13\n",
      "Current Number: 8 Previous Number: 7 Sum: 15\n",
      "Current Number: 9 Previous Number: 8 Sum: 17\n",
      "Current Number: 10 Previous Number: 9 Sum: 19\n"
     ]
    }
   ],
   "source": [
    "list1 = [1, 2, 3, 4, 5, 6, 7, 8, 9, 10]\n",
    "c = 0\n",
    "while c < len(list1):\n",
    "    prev = list1[c - 1] if c > 0 else 0\n",
    "    print(f'Current Number: {list1[c]} Previous Number: {prev} Sum: {list1[c] + prev}')\n",
    "    c += 1"
   ]
  },
  {
   "cell_type": "code",
   "execution_count": 9,
   "id": "30515e36-4f2a-4fa7-b971-736472ea0f19",
   "metadata": {},
   "outputs": [
    {
     "name": "stdout",
     "output_type": "stream",
     "text": [
      "10 20 55 "
     ]
    }
   ],
   "source": [
    "list1=[10,20,33,46,55]\n",
    "c=0\n",
    "for num in list1:\n",
    "    if num%5==0:\n",
    "        print(num,end=' ')"
   ]
  },
  {
   "cell_type": "code",
   "execution_count": 10,
   "id": "b2e08f5f-d623-43cd-bd2d-dd7746b72024",
   "metadata": {},
   "outputs": [
    {
     "name": "stdin",
     "output_type": "stream",
     "text": [
      "Enter the number 7\n"
     ]
    },
    {
     "name": "stdout",
     "output_type": "stream",
     "text": [
      "Prime\n"
     ]
    }
   ],
   "source": [
    "num=int(input('Enter the number'))\n",
    "c=2\n",
    "prime=True\n",
    "while c<num:\n",
    "    if num%c==0:\n",
    "        prime=False\n",
    "        break\n",
    "    c+=1\n",
    "if prime:\n",
    "    print('Prime')\n",
    "else:\n",
    "    print('Not Prime')"
   ]
  },
  {
   "cell_type": "code",
   "execution_count": 11,
   "id": "f5852206-f4a6-46a1-bc61-2bc5f2237c73",
   "metadata": {},
   "outputs": [
    {
     "name": "stdout",
     "output_type": "stream",
     "text": [
      "\n",
      "* \n",
      "* * \n",
      "* * * \n",
      "* * * * \n",
      "* * * * * \n",
      "* * * * \n",
      "* * * \n",
      "* * \n",
      "* \n"
     ]
    }
   ],
   "source": [
    "for i in range(10):\n",
    "    if i <= 5:\n",
    "        for j in range(i):\n",
    "            print('* ', end='')\n",
    "    else:\n",
    "        for j in range(10 - i):\n",
    "            print('* ', end='')\n",
    "    print()"
   ]
  },
  {
   "cell_type": "code",
   "execution_count": 12,
   "id": "e470812f-8080-4143-ac78-c56e81a048aa",
   "metadata": {},
   "outputs": [
    {
     "name": "stdin",
     "output_type": "stream",
     "text": [
      "Enter the string assembly\n"
     ]
    },
    {
     "name": "stdout",
     "output_type": "stream",
     "text": [
      "{'m': 1, 'a': 1, 'y': 1, 'l': 1, 'b': 1, 's': 2, 'e': 1}\n"
     ]
    }
   ],
   "source": [
    "text=input('Enter the string')\n",
    "char_count={}\n",
    "for char in set(text):\n",
    "    char_count[char]=text.count(char)\n",
    "print(char_count)"
   ]
  },
  {
   "cell_type": "code",
   "execution_count": 13,
   "id": "55ee4c38-3189-4478-8b52-8278a331cc22",
   "metadata": {},
   "outputs": [
    {
     "name": "stdin",
     "output_type": "stream",
     "text": [
      "Enter the first num 12\n",
      "Enter the second num 48\n",
      "Enter the third num 32\n"
     ]
    },
    {
     "name": "stdout",
     "output_type": "stream",
     "text": [
      "48  is largest\n"
     ]
    }
   ],
   "source": [
    "num1=int(input('Enter the first num'))\n",
    "num2=int(input('Enter the second num'))\n",
    "num3=int(input('Enter the third num'))\n",
    "if num1>num2 and num1>num3:\n",
    "    print(num1,' is largest')\n",
    "elif num2>num1 and num2>num3:\n",
    "    print(num2,' is largest')\n",
    "else:\n",
    "    print(num3,' is largest')"
   ]
  },
  {
   "cell_type": "code",
   "execution_count": 14,
   "id": "d59a408e-b020-436b-8252-6765202a0096",
   "metadata": {},
   "outputs": [
    {
     "name": "stdin",
     "output_type": "stream",
     "text": [
      "Enter a positive number 4\n"
     ]
    },
    {
     "name": "stdout",
     "output_type": "stream",
     "text": [
      "Sum of cubes of all positive numbers till  4  is :  36\n"
     ]
    }
   ],
   "source": [
    "num=int(input('Enter a positive number'))\n",
    "if num<0:\n",
    "    print('Not a positive number')\n",
    "else:\n",
    "    sum=0\n",
    "    for i in range(num):\n",
    "        sum=sum+(i*i*i)\n",
    "print('Sum of cubes of all positive numbers till ',num,' is : ',sum)"
   ]
  },
  {
   "cell_type": "code",
   "execution_count": 15,
   "id": "1e8f8c8c-0581-4df4-af3c-2ed7dede123b",
   "metadata": {},
   "outputs": [
    {
     "name": "stdout",
     "output_type": "stream",
     "text": [
      "Fizz Buzz 1 Fizz 3 Fizz Buzz Fizz 7 Fizz 9 Fizz Buzz "
     ]
    }
   ],
   "source": [
    "for i in range(11):\n",
    "    if i%2==0:\n",
    "        print('Fizz',end=' ')\n",
    "    if i%5==0:\n",
    "        print('Buzz',end=' ')\n",
    "    if i%2!=0 and i%5!=0:\n",
    "        print(i,end=' ')"
   ]
  },
  {
   "cell_type": "code",
   "execution_count": 16,
   "id": "a1154b67-1fcb-4c86-be16-3539d2e87bd4",
   "metadata": {},
   "outputs": [
    {
     "name": "stdin",
     "output_type": "stream",
     "text": [
      "Enter a number 4\n"
     ]
    },
    {
     "name": "stdout",
     "output_type": "stream",
     "text": [
      "24\n"
     ]
    }
   ],
   "source": [
    "def factorial(num):\n",
    "    if num < 0:\n",
    "        return \"negative number\"\n",
    "    result = 1\n",
    "    for i in range(1, num + 1):\n",
    "        result *= i\n",
    "    return result\n",
    "num=int(input('Enter a number'))\n",
    "print(factorial(num))"
   ]
  },
  {
   "cell_type": "code",
   "execution_count": 17,
   "id": "07076183-0b72-4d69-b760-2280405b9232",
   "metadata": {},
   "outputs": [
    {
     "name": "stdout",
     "output_type": "stream",
     "text": [
      "2\n"
     ]
    }
   ],
   "source": [
    "def most_frequent(numbers):\n",
    "    freq={}\n",
    "    for num in numbers:\n",
    "        if num in freq:\n",
    "            freq[num]+=1\n",
    "        else:\n",
    "            freq[num]=1\n",
    "    f_num=max(freq, key=freq.get)\n",
    "    return f_num\n",
    "list1=[2,3,4,2,5,2]\n",
    "print(most_frequent(list1))"
   ]
  },
  {
   "cell_type": "code",
   "execution_count": 18,
   "id": "26b6717d-81e5-4239-a93f-63ea0d612d62",
   "metadata": {},
   "outputs": [
    {
     "name": "stdout",
     "output_type": "stream",
     "text": [
      "15\n"
     ]
    }
   ],
   "source": [
    "numbers=[2,1,3,1]\n",
    "sum=0\n",
    "for num in numbers:\n",
    "    sum+=(num*num)\n",
    "print(sum)"
   ]
  },
  {
   "cell_type": "code",
   "execution_count": 20,
   "id": "68044064-10b9-46bc-8af9-307f73ffaf83",
   "metadata": {},
   "outputs": [
    {
     "name": "stdout",
     "output_type": "stream",
     "text": [
      "0  - Even\n",
      "1  - Odd\n",
      "2  - Even\n",
      "3  - Odd\n",
      "4  - Even\n",
      "5  - Odd\n",
      "6  - Even\n",
      "7  - Odd\n",
      "8  - Even\n",
      "9  - Odd\n",
      "10  - Even\n",
      "11  - Odd\n",
      "12  - Even\n",
      "13  - Odd\n",
      "14  - Even\n",
      "15  - Odd\n"
     ]
    }
   ],
   "source": [
    "for i in range(16):\n",
    "    if i % 2 == 0:\n",
    "        print(i,' - Even')\n",
    "    else:\n",
    "        print(i,' - Odd')"
   ]
  },
  {
   "cell_type": "code",
   "execution_count": null,
   "id": "ac07692f-4014-4b57-820e-b478b3a631c6",
   "metadata": {},
   "outputs": [],
   "source": []
  }
 ],
 "metadata": {
  "kernelspec": {
   "display_name": "Python 3 (ipykernel)",
   "language": "python",
   "name": "python3"
  },
  "language_info": {
   "codemirror_mode": {
    "name": "ipython",
    "version": 3
   },
   "file_extension": ".py",
   "mimetype": "text/x-python",
   "name": "python",
   "nbconvert_exporter": "python",
   "pygments_lexer": "ipython3",
   "version": "3.12.4"
  }
 },
 "nbformat": 4,
 "nbformat_minor": 5
}
