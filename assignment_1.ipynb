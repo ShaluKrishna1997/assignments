{
 "cells": [
  {
   "cell_type": "code",
   "execution_count": null,
   "id": "2fd5f005-1707-47ae-a5d6-24472c095e7a",
   "metadata": {},
   "outputs": [],
   "source": []
  },
  {
   "cell_type": "code",
   "execution_count": 3,
   "id": "660060e2-990e-40ec-9525-cfcdeca8efc3",
   "metadata": {},
   "outputs": [
    {
     "name": "stdin",
     "output_type": "stream",
     "text": [
      "Enter the radius 3\n"
     ]
    },
    {
     "name": "stdout",
     "output_type": "stream",
     "text": [
      "Area =  28.259999999999998\n"
     ]
    }
   ],
   "source": [
    "radius=float(input('Enter the radius'))\n",
    "area=3.14*radius*radius\n",
    "print('Area = ',area)"
   ]
  },
  {
   "cell_type": "code",
   "execution_count": 4,
   "id": "e6d43af6-8187-47a8-b76f-d0e755e271e8",
   "metadata": {},
   "outputs": [
    {
     "name": "stdin",
     "output_type": "stream",
     "text": [
      "Enter the name Shalu\n",
      "Enter Roll Num 12\n",
      "Enter mark 34\n"
     ]
    },
    {
     "name": "stdout",
     "output_type": "stream",
     "text": [
      "Name : Shalu\n",
      "Roll No: 12\n",
      "Mark : 34\n"
     ]
    }
   ],
   "source": [
    "name=input('Enter the name')\n",
    "roll_no=input('Enter Roll Num')\n",
    "mark=input('Enter mark')\n",
    "print('Name :',name)\n",
    "print('Roll No:',roll_no)\n",
    "print('Mark :',mark)"
   ]
  },
  {
   "cell_type": "code",
   "execution_count": 5,
   "id": "8f8eb246-d9d3-47ee-b288-7555af9db6b2",
   "metadata": {},
   "outputs": [
    {
     "name": "stdout",
     "output_type": "stream",
     "text": [
      "47  is the largest number\n"
     ]
    }
   ],
   "source": [
    "list1=[12,3,47,10]\n",
    "print(max(list1),' is the largest number')"
   ]
  },
  {
   "cell_type": "code",
   "execution_count": 8,
   "id": "bc9309d6-f0e2-4417-8f9b-bcb7ff99a106",
   "metadata": {},
   "outputs": [
    {
     "name": "stdout",
     "output_type": "stream",
     "text": [
      "Current Number: 1 Previous Number: 0 Sum: 1\n",
      "Current Number: 2 Previous Number: 1 Sum: 3\n",
      "Current Number: 3 Previous Number: 2 Sum: 5\n",
      "Current Number: 4 Previous Number: 3 Sum: 7\n",
      "Current Number: 5 Previous Number: 4 Sum: 9\n",
      "Current Number: 6 Previous Number: 5 Sum: 11\n",
      "Current Number: 7 Previous Number: 6 Sum: 13\n",
      "Current Number: 8 Previous Number: 7 Sum: 15\n",
      "Current Number: 9 Previous Number: 8 Sum: 17\n",
      "Current Number: 10 Previous Number: 9 Sum: 19\n"
     ]
    }
   ],
   "source": [
    "list1 = [1, 2, 3, 4, 5, 6, 7, 8, 9, 10]\n",
    "c = 0\n",
    "while c < len(list1):\n",
    "    prev = list1[c - 1] if c > 0 else 0\n",
    "    print(f'Current Number: {list1[c]} Previous Number: {prev} Sum: {list1[c] + prev}')\n",
    "    c += 1"
   ]
  },
  {
   "cell_type": "code",
   "execution_count": 16,
   "id": "684b8e4d-4b03-44bc-83ae-b2a375594891",
   "metadata": {},
   "outputs": [
    {
     "name": "stdout",
     "output_type": "stream",
     "text": [
      "10 20 55 "
     ]
    }
   ],
   "source": [
    "list1=[10,20,33,46,55]\n",
    "c=0\n",
    "for num in list1:\n",
    "    if num%5==0:\n",
    "        print(num,end=' ')"
   ]
  },
  {
   "cell_type": "code",
   "execution_count": 15,
   "id": "a43ff784-f26b-409d-ad7a-5abeeb7889e3",
   "metadata": {},
   "outputs": [
    {
     "name": "stdin",
     "output_type": "stream",
     "text": [
      "Enter the number 7\n"
     ]
    },
    {
     "name": "stdout",
     "output_type": "stream",
     "text": [
      "Prime\n"
     ]
    }
   ],
   "source": [
    "num=int(input('Enter the number'))\n",
    "c=2\n",
    "prime=True\n",
    "while c<num:\n",
    "    if num%c==0:\n",
    "        prime=False\n",
    "        break\n",
    "    c+=1\n",
    "if prime:\n",
    "    print('Prime')\n",
    "else:\n",
    "    print('Not Prime')"
   ]
  },
  {
   "cell_type": "code",
   "execution_count": 14,
   "id": "ac7dbbd5-1e74-40f8-9ed1-c9f1156f0f30",
   "metadata": {},
   "outputs": [
    {
     "name": "stdout",
     "output_type": "stream",
     "text": [
      "\n",
      "* \n",
      "* * \n",
      "* * * \n",
      "* * * * \n",
      "* * * * * \n",
      "* * * * \n",
      "* * * \n",
      "* * \n",
      "* \n"
     ]
    }
   ],
   "source": [
    "for i in range(10):\n",
    "    if i <= 5:\n",
    "        for j in range(i):\n",
    "            print('* ', end='')\n",
    "    else:\n",
    "        for j in range(10 - i):\n",
    "            print('* ', end='')\n",
    "    print()"
   ]
  },
  {
   "cell_type": "code",
   "execution_count": 17,
   "id": "8b18bdea-9514-4967-b3c8-747929853c67",
   "metadata": {},
   "outputs": [
    {
     "name": "stdin",
     "output_type": "stream",
     "text": [
      "Enter the string assembly\n"
     ]
    },
    {
     "name": "stdout",
     "output_type": "stream",
     "text": [
      "{'b': 1, 'e': 1, 's': 2, 'y': 1, 'l': 1, 'm': 1, 'a': 1}\n"
     ]
    }
   ],
   "source": [
    "text=input('Enter the string')\n",
    "char_count={}\n",
    "for char in set(text):\n",
    "    char_count[char]=text.count(char)\n",
    "print(char_count)"
   ]
  },
  {
   "cell_type": "code",
   "execution_count": 21,
   "id": "3340a498-ecbd-4649-b636-aba4b9bff5aa",
   "metadata": {},
   "outputs": [
    {
     "name": "stdin",
     "output_type": "stream",
     "text": [
      "Enter the first num 34\n",
      "Enter the second num 12\n",
      "Enter the third num 7\n"
     ]
    },
    {
     "name": "stdout",
     "output_type": "stream",
     "text": [
      "34  is largest\n"
     ]
    }
   ],
   "source": [
    "num1=int(input('Enter the first num'))\n",
    "num2=int(input('Enter the second num'))\n",
    "num3=int(input('Enter the third num'))\n",
    "if num1>num2 and num1>num3:\n",
    "    print(num1,' is largest')\n",
    "elif num2>num1 and num2>num3:\n",
    "    print(num2,' is largest')\n",
    "else:\n",
    "    print(num3,' is largest')"
   ]
  },
  {
   "cell_type": "code",
   "execution_count": 22,
   "id": "f865b747-d943-486c-8a84-a046111e1cfb",
   "metadata": {},
   "outputs": [
    {
     "name": "stdin",
     "output_type": "stream",
     "text": [
      "Enter a positive number 4\n"
     ]
    },
    {
     "name": "stdout",
     "output_type": "stream",
     "text": [
      "Sum of cubes of all positive numbers till  4  is :  36\n"
     ]
    }
   ],
   "source": [
    "num=int(input('Enter a positive number'))\n",
    "if num<0:\n",
    "    print('Not a positive number')\n",
    "else:\n",
    "    sum=0\n",
    "    for i in range(num):\n",
    "        sum=sum+(i*i*i)\n",
    "print('Sum of cubes of all positive numbers till ',num,' is : ',sum)\n",
    "        "
   ]
  },
  {
   "cell_type": "code",
   "execution_count": 26,
   "id": "02f6a014-2bfa-4dde-851c-c56a19738720",
   "metadata": {},
   "outputs": [
    {
     "name": "stdout",
     "output_type": "stream",
     "text": [
      "Fizz Buzz 1 Fizz 3 Fizz Buzz Fizz 7 Fizz 9 Fizz Buzz "
     ]
    }
   ],
   "source": [
    "for i in range(11):\n",
    "    if i%2==0:\n",
    "        print('Fizz',end=' ')\n",
    "    if i%5==0:\n",
    "        print('Buzz',end=' ')\n",
    "    if i%2!=0 and i%5!=0:\n",
    "        print(i,end=' ')"
   ]
  },
  {
   "cell_type": "code",
   "execution_count": 27,
   "id": "51ef1ad9-4e69-4b0a-96c3-ec24af793d5f",
   "metadata": {},
   "outputs": [
    {
     "name": "stdin",
     "output_type": "stream",
     "text": [
      "Enter a number 3\n"
     ]
    },
    {
     "name": "stdout",
     "output_type": "stream",
     "text": [
      "6\n"
     ]
    }
   ],
   "source": [
    "def factorial(num):\n",
    "    if num < 0:\n",
    "        return \"negative number\"\n",
    "    result = 1\n",
    "    for i in range(1, num + 1):\n",
    "        result *= i\n",
    "    return result\n",
    "num=int(input('Enter a number'))\n",
    "print(factorial(num))"
   ]
  },
  {
   "cell_type": "code",
   "execution_count": 30,
   "id": "d6df80b7-10b7-4620-b942-b76aeb743809",
   "metadata": {},
   "outputs": [
    {
     "name": "stdout",
     "output_type": "stream",
     "text": [
      "2\n"
     ]
    }
   ],
   "source": [
    "def most_frequent(numbers):\n",
    "    freq={}\n",
    "    for num in numbers:\n",
    "        if num in freq:\n",
    "            freq[num]+=1\n",
    "        else:\n",
    "            freq[num]=1\n",
    "    f_num=max(freq, key=freq.get)\n",
    "    return f_num\n",
    "list1=[2,3,4,2,5,2]\n",
    "print(most_frequent(list1))"
   ]
  },
  {
   "cell_type": "code",
   "execution_count": 31,
   "id": "2d1d7438-0ebb-432d-85dd-0a62b4b13e8b",
   "metadata": {},
   "outputs": [
    {
     "name": "stdout",
     "output_type": "stream",
     "text": [
      "15\n"
     ]
    }
   ],
   "source": [
    "numbers=[2,1,3,1]\n",
    "sum=0\n",
    "for num in numbers:\n",
    "    sum+=(num*num)\n",
    "print(sum)"
   ]
  },
  {
   "cell_type": "code",
   "execution_count": null,
   "id": "6db93d41-8853-4dd7-95ae-82df61c1f804",
   "metadata": {},
   "outputs": [],
   "source": [
    "for i in range(16):\n",
    "    if i % 2 == 0:\n",
    "        print(i,' - Even')\n",
    "    else:\n",
    "        print(i,' ')"
   ]
  }
 ],
 "metadata": {
  "kernelspec": {
   "display_name": "Python 3 (ipykernel)",
   "language": "python",
   "name": "python3"
  },
  "language_info": {
   "codemirror_mode": {
    "name": "ipython",
    "version": 3
   },
   "file_extension": ".py",
   "mimetype": "text/x-python",
   "name": "python",
   "nbconvert_exporter": "python",
   "pygments_lexer": "ipython3",
   "version": "3.10.12"
  }
 },
 "nbformat": 4,
 "nbformat_minor": 5
}
