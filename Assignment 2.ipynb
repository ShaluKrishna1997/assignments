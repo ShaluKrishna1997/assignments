{
 "cells": [
  {
   "cell_type": "code",
   "execution_count": 7,
   "id": "a3f65ce3-3b1d-4850-b9f7-79b6066fd98e",
   "metadata": {},
   "outputs": [],
   "source": [
    "import numpy as np"
   ]
  },
  {
   "cell_type": "markdown",
   "id": "0cc49b0e-8671-4459-bbed-41280e90bede",
   "metadata": {},
   "source": [
    "Numpy assignment:1"
   ]
  },
  {
   "cell_type": "code",
   "execution_count": 8,
   "id": "607aa2d5-e138-46b2-abc8-de8879bd87f1",
   "metadata": {},
   "outputs": [
    {
     "name": "stdout",
     "output_type": "stream",
     "text": [
      "[[ 8  9 10]\n",
      " [11 12 13]]\n"
     ]
    }
   ],
   "source": [
    "array=np.array([[8,9,10],[11,12,13]])\n",
    "print(array)"
   ]
  },
  {
   "cell_type": "code",
   "execution_count": 9,
   "id": "3d0ad59f-e02d-495b-8cdb-8a14f80499b2",
   "metadata": {},
   "outputs": [
    {
     "data": {
      "text/plain": [
       "array([[ 8,  9],\n",
       "       [10, 11],\n",
       "       [12, 13]])"
      ]
     },
     "execution_count": 9,
     "metadata": {},
     "output_type": "execute_result"
    }
   ],
   "source": [
    "array.reshape(3,2)"
   ]
  },
  {
   "cell_type": "code",
   "execution_count": 12,
   "id": "7161e5c3-29b6-4bf4-97cd-f2f90a3252f7",
   "metadata": {},
   "outputs": [],
   "source": [
    "Question:2"
   ]
  },
  {
   "cell_type": "code",
   "execution_count": 10,
   "id": "b0209b27-debc-49ac-a94b-0cadd2082542",
   "metadata": {},
   "outputs": [
    {
     "name": "stdout",
     "output_type": "stream",
     "text": [
      "[[ 8  9]\n",
      " [10 11]\n",
      " [12 13]]\n"
     ]
    }
   ],
   "source": [
    "array=np.array([[8,9],[10,11],[12,13]])\n",
    "print(array)"
   ]
  },
  {
   "cell_type": "code",
   "execution_count": 13,
   "id": "77210be2-69a1-4540-a75c-b9a47932ee14",
   "metadata": {},
   "outputs": [
    {
     "data": {
      "text/plain": [
       "array([ 9, 11])"
      ]
     },
     "execution_count": 13,
     "metadata": {},
     "output_type": "execute_result"
    }
   ],
   "source": [
    "array[:2,1]"
   ]
  },
  {
   "cell_type": "code",
   "execution_count": null,
   "id": "87d8cf59-1e0e-47a5-a824-bfaa4cfc656c",
   "metadata": {},
   "outputs": [],
   "source": []
  }
 ],
 "metadata": {
  "kernelspec": {
   "display_name": "Python 3 (ipykernel)",
   "language": "python",
   "name": "python3"
  },
  "language_info": {
   "codemirror_mode": {
    "name": "ipython",
    "version": 3
   },
   "file_extension": ".py",
   "mimetype": "text/x-python",
   "name": "python",
   "nbconvert_exporter": "python",
   "pygments_lexer": "ipython3",
   "version": "3.12.4"
  }
 },
 "nbformat": 4,
 "nbformat_minor": 5
}
